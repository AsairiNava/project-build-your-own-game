{
 "cells": [
  {
   "cell_type": "markdown",
   "metadata": {},
   "source": [
    "# Loteria Tradicional Mexicana\n"
   ]
  },
  {
   "cell_type": "markdown",
   "metadata": {},
   "source": [
    "# Area de Griton\n",
    "### El griton se define como la persona que canta el mazo de loteria.\n",
    "## Requerimientos\n",
    "### 1.- Declarar el maso como un set de cartas definidas previamente."
   ]
  },
  {
   "cell_type": "code",
   "execution_count": null,
   "metadata": {},
   "outputs": [],
   "source": [
    "mazo= [\"1 El Gallo\", \"2 El Diablo\", \"3 La Dama\", \"4 El Catrín\", \"5 El Paraguas\", \"6 La Sirena\", \"7 La Escalera\", \"8 La Botella\", \"9 El Barril\",\\\n",
    "          \"10 El Arbol\", \"11 El Melon\", \"12 El Valiente\", \"13 El Gorrito\", \"14 La Muerte\", \"15 La Pera\", \"16 La Bandera\", \"17 El Bandolon\",\\\n",
    "          \"18 El Violoncello\", \"19 La Garza\", \"20 El Pajaro\", \"21 La Mano\", \"22 La Bota\", \"23 La Luna\", \"24 El Cotorro\", \"25 El Borracho\",\\\n",
    "          \"26 El Negrito\", \"27 El Corazón\", \"28 La Sandia\", \"29 El Tambor\", \"30 El Camarón\", \"31 Las Jaras\", \"32 El Músico\", \"33 La Araña\",\\\n",
    "          \"34 El Soldado\", \"35 La Estrella\", \"36 El Cazo\", \"37 El Mundo\", \"38 El Apache\", \"39 El Nopal\", \"40 El Alacrán\", \"41 La Rosa\",\\\n",
    "          \"42 La Calavera\", \"43 La Campana\", \"44 El Cantarito\", \"45 El Venado\", \"46 El Sol\", \"47 La Corona\", \"48 La Chalupa\"]"
   ]
  },
  {
   "cell_type": "markdown",
   "metadata": {},
   "source": [
    "### 2.-Revolver las cartas y colocarlas en una lista. "
   ]
  },
  {
   "cell_type": "code",
   "execution_count": null,
   "metadata": {},
   "outputs": [],
   "source": []
  },
  {
   "cell_type": "markdown",
   "metadata": {},
   "source": [
    "### 3.- Subrutina cantando las cartas. La lista se debe ir vaciando, tal vez con un next y cada que se saca una carta imprimir que carta salio, esperar un tiempo configurable de delay por ejemplo 5s y proseguir hasta vaciar la lista.\n"
   ]
  },
  {
   "cell_type": "code",
   "execution_count": null,
   "metadata": {},
   "outputs": [],
   "source": [
    "#Para escoger la aparición alternada de las cartas\n",
    "\n",
    "def obtener_carta(carta, cartas):\n",
    "  for i in cartas:\n",
    "    carta = random.choice(cartas)\n",
    "print(carta_cantada)\n",
    "while len(carton1) < 16:\n",
    "    carta_en_carton = random.choice(cartas)\n",
    "    if carta_en_carton in carton1:\n",
    "        continue\n",
    "    else:\n",
    "        carton1 += [carta_en_carton]\n",
    "print(\"el cartón del jugador 1 es\", carton1)\n",
    "while len(carton2) < 16:\n",
    "    carta_en_carton = random.choice(cartas)\n",
    "    if carta_en_carton in carton2:\n",
    "        continue\n",
    "    else:\n",
    "        carton2 += [carta_en_carton]\n",
    "print(\"el cartón del jugador 2 es\", carton2)\n",
    "def marcar_carta (carta_cantada, carton1):\n",
    "  if carta_marcada in carton:\n",
    "   self._carton[self._carton.index(marcar_carta)]=\"X\"\n",
    "   self._cartas_faltantes =- 1\n",
    "   return True\n",
    "def marcar_carta (carta_cantada, carton2):\n",
    "  if carta_marcada in carton:\n",
    "   self._carton[self._carton.index(marcar_carta)]=\"X\"\n",
    "   self._cartas_faltantes =- 1\n",
    "   return True"
   ]
  },
  {
   "cell_type": "markdown",
   "metadata": {},
   "source": [
    "# Area Creando los Cartones\n",
    "### Los cartones en la loteria se reparten entre los jugadores y cada jugador los va marcando conforme el griton los canta con un frijol o corcholata. \n",
    "\n",
    "## Requerimientos\n",
    "\n",
    "### 1.- Definir cada carton como un diccionario en el cual la llave sera la imagen y el valor un booleano representando el frijol que marca si la carta ya salio."
   ]
  },
  {
   "cell_type": "code",
   "execution_count": null,
   "metadata": {},
   "outputs": [],
   "source": []
  },
  {
   "cell_type": "markdown",
   "metadata": {},
   "source": [
    "### 2.- Funcion para crear un carton de n elementos. Se itera un loop a traves de los n elementos a escoger de los contenidos en el mazo.  Los elementos en el carton no deben repetirse. Se generaran 2 cartones distintos uno para el jugador persona y otro para el jugador IA."
   ]
  },
  {
   "cell_type": "code",
   "execution_count": null,
   "metadata": {},
   "outputs": [],
   "source": []
  },
  {
   "cell_type": "markdown",
   "metadata": {},
   "source": [
    "# Area jugador IA\n",
    "### El jugador IA sera el contrincante del jugador organico. \n",
    "\n",
    "## Requerimientos\n",
    "\n",
    "### 1.- Definir la funcion que  llenara el carton (diccionario con cartas key y booleanos como frijoles.) Cada que el Griton IA cante una carta, el jugador IA buscara en su carton si esa carta esta en su carton y si esta la marcara con un frijol representado por un true en el booleano."
   ]
  },
  {
   "cell_type": "code",
   "execution_count": null,
   "metadata": {},
   "outputs": [],
   "source": [
    "def marcar_carta (carta_cantada, carton2):\n",
    "  if carta_marcada in carton:\n",
    "   self._carton[self._carton.index(marcar_carta)]=\"X\"\n",
    "   self._cartas_faltantes =- 1\n",
    "   return True"
   ]
  },
  {
   "cell_type": "markdown",
   "metadata": {},
   "source": [
    "# Area jugador organico\n",
    "### El jugador organico representa a un sistema vivo que interactua con los IA.\n",
    "\n",
    "## Requerimientos\n",
    "\n",
    "### 1.- Implementar una interfaz donde el jugador organico pueda poner su frijol en su carton. (Marcar con true el carton si su subproceso considera que el carton ya fue gritado por el Griton IA o bien un 0 si el cree que cometio un error)"
   ]
  },
  {
   "cell_type": "code",
   "execution_count": null,
   "metadata": {},
   "outputs": [],
   "source": [
    "def marcar_carta (carta_cantada, carton1):\n",
    "  if carta_marcada in carton:\n",
    "   self._carton[self._carton.index(marcar_carta)]=\"X\"\n",
    "   self._cartas_faltantes =- 1\n",
    "   return True"
   ]
  },
  {
   "cell_type": "markdown",
   "metadata": {},
   "source": [
    "# Area integracion \n",
    "### En esta zona se integrara todo el codigo para ejecutar el juego como tal.\n",
    "## Requerimientos\n",
    "### 1.-Integrar el codigo definido en el pseudocodigo/diagrama de flujo para la interaccion entre las dos IA y el jugador organico. El sistema se implementara secuencialmente y posteriormente en 3 threads distintos."
   ]
  },
  {
   "cell_type": "code",
   "execution_count": null,
   "metadata": {},
   "outputs": [],
   "source": []
  }
 ],
 "metadata": {
  "celltoolbar": "Raw Cell Format",
  "kernelspec": {
   "display_name": "Python 3",
   "language": "python",
   "name": "python3"
  },
  "language_info": {
   "codemirror_mode": {
    "name": "ipython",
    "version": 3
   },
   "file_extension": ".py",
   "mimetype": "text/x-python",
   "name": "python",
   "nbconvert_exporter": "python",
   "pygments_lexer": "ipython3",
   "version": "3.8.3"
  }
 },
 "nbformat": 4,
 "nbformat_minor": 4
}
